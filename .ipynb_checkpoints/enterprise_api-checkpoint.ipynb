{
 "cells": [
  {
   "cell_type": "markdown",
   "id": "cb429adc",
   "metadata": {},
   "source": [
    "# 워크넷 API 이용 기업 정보 데이터 베이스화 "
   ]
  },
  {
   "cell_type": "markdown",
   "id": "6da4f78c",
   "metadata": {},
   "source": [
    "간단 요약 설명 : 워크넷 open api 를 이용해서 채용정보를 얻어 오려고 한다. \n",
    "채용정보직종은 데이터 분석과 관련된 직종이며 상세하게 얻어오려고 한다. \n",
    "파이썬으로는 얻어온 정보를 정리하고 + 카카오api를 이용해 좌표까지 얻어와서 \n",
    "csv파일로 만드는 것까지가 목표( 시각화를 위한 tableau 활용 예정) $$ "
   ]
  },
  {
   "cell_type": "markdown",
   "id": "7b553941",
   "metadata": {},
   "source": [
    "1. 모듈 설치"
   ]
  },
  {
   "cell_type": "code",
   "execution_count": 8,
   "id": "10046f3a",
   "metadata": {},
   "outputs": [],
   "source": [
    "import requests     # url 이용해서 정보 얻기 \n",
    "import pandas as pd # pandas 데이터프레임화해서 자료정리 \n",
    "import numpy as np\n",
    "from bs4 import BeautifulSoup # 뷰티풀숲으로 자료 원하는 것만 추출 \n",
    "import json\n"
   ]
  },
  {
   "cell_type": "markdown",
   "id": "4f593827",
   "metadata": {},
   "source": [
    "2. 검색할 직업 목록 확인 (데이터 관련직만 확인해보자)"
   ]
  },
  {
   "cell_type": "code",
   "execution_count": 9,
   "id": "22220777",
   "metadata": {
    "scrolled": false
   },
   "outputs": [
    {
     "data": {
      "text/html": [
       "<div>\n",
       "<style scoped>\n",
       "    .dataframe tbody tr th:only-of-type {\n",
       "        vertical-align: middle;\n",
       "    }\n",
       "\n",
       "    .dataframe tbody tr th {\n",
       "        vertical-align: top;\n",
       "    }\n",
       "\n",
       "    .dataframe thead th {\n",
       "        text-align: right;\n",
       "    }\n",
       "</style>\n",
       "<table border=\"1\" class=\"dataframe\">\n",
       "  <thead>\n",
       "    <tr style=\"text-align: right;\">\n",
       "      <th></th>\n",
       "      <th>직종코드</th>\n",
       "      <th>대분류</th>\n",
       "      <th>중분류</th>\n",
       "      <th>소분류</th>\n",
       "    </tr>\n",
       "  </thead>\n",
       "  <tbody>\n",
       "    <tr>\n",
       "      <th>0</th>\n",
       "      <td>NaN</td>\n",
       "      <td>NaN</td>\n",
       "      <td>NaN</td>\n",
       "      <td>NaN</td>\n",
       "    </tr>\n",
       "    <tr>\n",
       "      <th>1</th>\n",
       "      <td>카테고리 ID</td>\n",
       "      <td>1 depth</td>\n",
       "      <td>2 depth</td>\n",
       "      <td>3_depth</td>\n",
       "    </tr>\n",
       "    <tr>\n",
       "      <th>2</th>\n",
       "      <td>01</td>\n",
       "      <td>경영·사무·금융·보험</td>\n",
       "      <td></td>\n",
       "      <td></td>\n",
       "    </tr>\n",
       "    <tr>\n",
       "      <th>3</th>\n",
       "      <td>011</td>\n",
       "      <td></td>\n",
       "      <td>행정·경영·금융·보험 관리직</td>\n",
       "      <td></td>\n",
       "    </tr>\n",
       "    <tr>\n",
       "      <th>4</th>\n",
       "      <td>011100</td>\n",
       "      <td></td>\n",
       "      <td></td>\n",
       "      <td>의회의원·고위공무원 및 공공단체임원</td>\n",
       "    </tr>\n",
       "    <tr>\n",
       "      <th>...</th>\n",
       "      <td>...</td>\n",
       "      <td>...</td>\n",
       "      <td>...</td>\n",
       "      <td>...</td>\n",
       "    </tr>\n",
       "    <tr>\n",
       "      <th>1294</th>\n",
       "      <td>135</td>\n",
       "      <td></td>\n",
       "      <td>농림어업 단순 종사자</td>\n",
       "      <td></td>\n",
       "    </tr>\n",
       "    <tr>\n",
       "      <th>1295</th>\n",
       "      <td>905000</td>\n",
       "      <td></td>\n",
       "      <td></td>\n",
       "      <td>농림어업 단순 종사원</td>\n",
       "    </tr>\n",
       "    <tr>\n",
       "      <th>1296</th>\n",
       "      <td>905001</td>\n",
       "      <td></td>\n",
       "      <td></td>\n",
       "      <td>농업 단순 종사원</td>\n",
       "    </tr>\n",
       "    <tr>\n",
       "      <th>1297</th>\n",
       "      <td>905002</td>\n",
       "      <td></td>\n",
       "      <td></td>\n",
       "      <td>임업 단순 종사원(산림보호감시, 산불감시원 등)</td>\n",
       "    </tr>\n",
       "    <tr>\n",
       "      <th>1298</th>\n",
       "      <td>905003</td>\n",
       "      <td></td>\n",
       "      <td></td>\n",
       "      <td>어업 단순 종사원</td>\n",
       "    </tr>\n",
       "  </tbody>\n",
       "</table>\n",
       "<p>1299 rows × 4 columns</p>\n",
       "</div>"
      ],
      "text/plain": [
       "         직종코드          대분류              중분류                         소분류\n",
       "0         NaN          NaN              NaN                         NaN\n",
       "1     카테고리 ID      1 depth          2 depth                     3_depth\n",
       "2          01  경영·사무·금융·보험                                             \n",
       "3         011               행정·경영·금융·보험 관리직                            \n",
       "4      011100                                       의회의원·고위공무원 및 공공단체임원\n",
       "...       ...          ...              ...                         ...\n",
       "1294      135                   농림어업 단순 종사자                            \n",
       "1295   905000                                               농림어업 단순 종사원\n",
       "1296   905001                                                 농업 단순 종사원\n",
       "1297   905002                                임업 단순 종사원(산림보호감시, 산불감시원 등)\n",
       "1298   905003                                                 어업 단순 종사원\n",
       "\n",
       "[1299 rows x 4 columns]"
      ]
     },
     "execution_count": 9,
     "metadata": {},
     "output_type": "execute_result"
    }
   ],
   "source": [
    "code = pd.read_csv('/Users/snoo/enterprise/직종코드1.csv',encoding='utf-8',\n",
    "                   index_col='Unnamed: 0') \n",
    "code.columns = ['직종코드','대분류','중분류','소분류']\n",
    "code"
   ]
  },
  {
   "cell_type": "markdown",
   "id": "615e836b",
   "metadata": {},
   "source": [
    "2. 1) 부분 문자열 검사를 통해 직종 코드 찾기 "
   ]
  },
  {
   "cell_type": "code",
   "execution_count": 10,
   "id": "ec3f91db",
   "metadata": {
    "scrolled": true
   },
   "outputs": [
    {
     "data": {
      "text/html": [
       "<div>\n",
       "<style scoped>\n",
       "    .dataframe tbody tr th:only-of-type {\n",
       "        vertical-align: middle;\n",
       "    }\n",
       "\n",
       "    .dataframe tbody tr th {\n",
       "        vertical-align: top;\n",
       "    }\n",
       "\n",
       "    .dataframe thead th {\n",
       "        text-align: right;\n",
       "    }\n",
       "</style>\n",
       "<table border=\"1\" class=\"dataframe\">\n",
       "  <thead>\n",
       "    <tr style=\"text-align: right;\">\n",
       "      <th></th>\n",
       "      <th>직종코드</th>\n",
       "      <th>대분류</th>\n",
       "      <th>중분류</th>\n",
       "      <th>소분류</th>\n",
       "    </tr>\n",
       "  </thead>\n",
       "  <tbody>\n",
       "    <tr>\n",
       "      <th>249</th>\n",
       "      <td>134100</td>\n",
       "      <td></td>\n",
       "      <td></td>\n",
       "      <td>데이터 전문가</td>\n",
       "    </tr>\n",
       "    <tr>\n",
       "      <th>250</th>\n",
       "      <td>134101</td>\n",
       "      <td></td>\n",
       "      <td></td>\n",
       "      <td>데이터 설계 및 프로그래머</td>\n",
       "    </tr>\n",
       "    <tr>\n",
       "      <th>251</th>\n",
       "      <td>134102</td>\n",
       "      <td></td>\n",
       "      <td></td>\n",
       "      <td>데이터 분석가(빅데이터 분석가)</td>\n",
       "    </tr>\n",
       "    <tr>\n",
       "      <th>252</th>\n",
       "      <td>134103</td>\n",
       "      <td></td>\n",
       "      <td></td>\n",
       "      <td>데이터베이스 운영·관리자</td>\n",
       "    </tr>\n",
       "    <tr>\n",
       "      <th>258</th>\n",
       "      <td>134900</td>\n",
       "      <td></td>\n",
       "      <td></td>\n",
       "      <td>디지털 포렌식 전문가 및 기타 데이터·네트워크 전문가</td>\n",
       "    </tr>\n",
       "  </tbody>\n",
       "</table>\n",
       "</div>"
      ],
      "text/plain": [
       "       직종코드 대분류 중분류                            소분류\n",
       "249  134100                                데이터 전문가\n",
       "250  134101                         데이터 설계 및 프로그래머\n",
       "251  134102                      데이터 분석가(빅데이터 분석가)\n",
       "252  134103                          데이터베이스 운영·관리자\n",
       "258  134900          디지털 포렌식 전문가 및 기타 데이터·네트워크 전문가"
      ]
     },
     "execution_count": 10,
     "metadata": {},
     "output_type": "execute_result"
    }
   ],
   "source": [
    "code[code['소분류'].str.contains('데이터',na=False)] "
   ]
  },
  {
   "cell_type": "code",
   "execution_count": 11,
   "id": "0530c817",
   "metadata": {},
   "outputs": [],
   "source": [
    "# db 관리자나 디지털포렌식 전문가는 원하는 직종이 아니기 때문에 제외하도록 하자\n",
    "need_code = code['직종코드'][code['소분류'].str.contains('데이터',na=False)]\n",
    "need_code = need_code[:3]"
   ]
  },
  {
   "cell_type": "markdown",
   "id": "1b72804e",
   "metadata": {},
   "source": [
    "3. 워크넷 open api 사용법 \n",
    "    - 워크넷 오픈api 사이트 회원가입 필수 (인증키 신청) \n",
    "    - 인증키 get 'http://openapi.work.go.kr/opi/opi/opia/wantedApi.do?authKey=(인증키)&callTp=L&returnType=XML&startPage=1&display=100&occupation=134100'\n",
    "\n",
    "인증키 = 인증키 \n",
    "callTp = 얻을 정보 기본 L, 상세 = D 상세는 밑에 다룰 예정 \n",
    "returnType = XML \n",
    "startPage = 시작페이지 \n",
    "display = 최대 100\n",
    "occupation = 직종코드\n",
    "    \n",
    "\n"
   ]
  },
  {
   "cell_type": "code",
   "execution_count": 12,
   "id": "88767d77",
   "metadata": {
    "scrolled": true
   },
   "outputs": [
    {
     "data": {
      "text/plain": [
       "'134100'"
      ]
     },
     "execution_count": 12,
     "metadata": {},
     "output_type": "execute_result"
    }
   ],
   "source": [
    "need_code.index = range(0,3)\n",
    "need_code[0]"
   ]
  },
  {
   "cell_type": "code",
   "execution_count": 13,
   "id": "8d5e4e16",
   "metadata": {},
   "outputs": [
    {
     "name": "stdout",
     "output_type": "stream",
     "text": [
      "http://openapi.work.go.kr/opi/opi/opia/wantedApi.do?authKey=WNL596OLQCP7023TCKJPB2VR1HJ&callTp=L&returnType=XML&startPage=1&display=100&occupation=134100\n"
     ]
    }
   ],
   "source": [
    "# 먼저 하나만 먼저 해보도록한다\n",
    "key = pd.read_csv('/Users/snoo/key/worknet_key.txt').columns[0]\n",
    "# key = pd.read_csv('C:/SEONWOO/enterprise/worknet_key.txt').columns[0]\n",
    "url = 'http://openapi.work.go.kr/opi/opi/opia/wantedApi.do?\\\n",
    "authKey='+key+'&callTp=L&returnType=XML&startPage=1&\\\n",
    "display=100&occupation='+need_code[0]\n",
    "print(url)"
   ]
  },
  {
   "cell_type": "markdown",
   "id": "4309a470",
   "metadata": {},
   "source": [
    "4. request 모듈을 사용해서 정보 얻기"
   ]
  },
  {
   "cell_type": "code",
   "execution_count": 14,
   "id": "53d736e8",
   "metadata": {
    "scrolled": true
   },
   "outputs": [],
   "source": [
    "res = requests.get(url)\n",
    "text = res.text \n"
   ]
  },
  {
   "cell_type": "code",
   "execution_count": 15,
   "id": "ea63b4ff",
   "metadata": {
    "scrolled": true
   },
   "outputs": [],
   "source": [
    "# 뷰티풀숲의 find_all 같은 기능으로 원하는 정보만 얻을 생각이다.\n",
    "soup = BeautifulSoup(text,'lxml-xml')\n",
    "\n",
    "# display = 94 총 94개의 구직 정보가 있음 "
   ]
  },
  {
   "cell_type": "markdown",
   "id": "badbd8c5",
   "metadata": {},
   "source": [
    "5. 뷰티풀숲을 이용해 구인인증번호('wantedAuthNo')를 얻을 생각이다. \n",
    " why? / 상세를 보기 위해서는 구인인증번호가 필요하다. "
   ]
  },
  {
   "cell_type": "code",
   "execution_count": 16,
   "id": "f9e9b2e2",
   "metadata": {},
   "outputs": [
    {
     "data": {
      "text/plain": [
       "'K120252207110024'"
      ]
     },
     "execution_count": 16,
     "metadata": {},
     "output_type": "execute_result"
    }
   ],
   "source": [
    "# 전체의 구인인증번호를 반복문을 통해서 리스트로 만들 생각이다. \n",
    "soup.find_all('wantedAuthNo')[0].text "
   ]
  },
  {
   "cell_type": "code",
   "execution_count": 18,
   "id": "2314a0bf",
   "metadata": {
    "scrolled": true
   },
   "outputs": [
    {
     "data": {
      "text/plain": [
       "94"
      ]
     },
     "execution_count": 18,
     "metadata": {},
     "output_type": "execute_result"
    }
   ],
   "source": [
    "guin_num = []\n",
    "for i in range(int(soup.find('display').text)):\n",
    "    guin_num.append(soup.find_all('wantedAuthNo')[i].text)\n",
    "len(guin_num)"
   ]
  },
  {
   "cell_type": "markdown",
   "id": "fdab7568",
   "metadata": {},
   "source": [
    "## 직종코드 3가지를 url에 넣고 구인인증번호를 하나의 리스트로 저장하자 "
   ]
  },
  {
   "cell_type": "code",
   "execution_count": 19,
   "id": "a200fcbf",
   "metadata": {},
   "outputs": [
    {
     "data": {
      "text/plain": [
       "157"
      ]
     },
     "execution_count": 19,
     "metadata": {},
     "output_type": "execute_result"
    }
   ],
   "source": [
    "key = pd.read_csv('/Users/snoo/key/worknet_key.txt').columns[0]\n",
    "# key = pd.read_csv('C:/SEONWOO/enterprise/worknet_key.txt').columns[0]\n",
    "guin_num_all = []\n",
    "\n",
    "for i in range(len(need_code)):\n",
    "    url = 'http://openapi.work.go.kr/opi/opi/opia/wantedApi.do?\\\n",
    "authKey='+key+'&callTp=L&returnType=XML&startPage=1&\\\n",
    "display=100&occupation='+need_code[i]\n",
    "    res = requests.get(url)\n",
    "    text = res.text\n",
    "    soup = BeautifulSoup(text,'lxml-xml')\n",
    "    for j in range(int(soup.find('display').text)):\n",
    "        guin_num_all.append(soup.find_all('wantedAuthNo')[j].text)\n",
    "\n",
    "len(guin_num_all)\n",
    "\n"
   ]
  },
  {
   "cell_type": "markdown",
   "id": "f6b55472",
   "metadata": {},
   "source": [
    "#### 상세정보 얻는 url  방식은 위와 같다. guin_num_all 의 0번을 먼저 확인하자.\n",
    "http://openapi.work.go.kr/opi/opi/opia/wantedApi.do?authKey=[인증키]&callTp=D&returnType=XML\n",
    "&wantedAuthNo=[구인인증번호]&infoSvc=VALIDATION"
   ]
  },
  {
   "cell_type": "code",
   "execution_count": 20,
   "id": "871353be",
   "metadata": {},
   "outputs": [
    {
     "name": "stdout",
     "output_type": "stream",
     "text": [
      "http://openapi.work.go.kr/opi/opi/opia/wantedApi.do?authKey=WNL596OLQCP7023TCKJPB2VR1HJ&callTp=D&returnType=XML&wantedAuthNo=K120252207110024&infoSvc=VALIDATION\n"
     ]
    }
   ],
   "source": [
    "key = pd.read_csv('/Users/snoo/key/worknet_key.txt').columns[0]\n",
    "# key = pd.read_csv('C:/SEONWOO/enterprise/worknet_key.txt').columns[0]\n",
    "url = 'http://openapi.work.go.kr/opi/opi/opia/wantedApi.do?authKey='+key+\\\n",
    "'&callTp=D&returnType=XML&wantedAuthNo='+guin_num_all[0]+'&infoSvc=VALIDATION'\n",
    "print(url)"
   ]
  },
  {
   "cell_type": "code",
   "execution_count": 21,
   "id": "ea8ed843",
   "metadata": {
    "scrolled": true
   },
   "outputs": [],
   "source": [
    "res = requests.get(url)\n",
    "text = res.text "
   ]
  },
  {
   "cell_type": "code",
   "execution_count": 22,
   "id": "d7406fe9",
   "metadata": {
    "scrolled": true
   },
   "outputs": [],
   "source": [
    "soup = BeautifulSoup(text,'lxml-xml')"
   ]
  },
  {
   "cell_type": "markdown",
   "id": "5ef3f571",
   "metadata": {},
   "source": [
    "## 구인정보 상세   필요한것만 넘버링\n",
    "1. <corpNm>\tString\t회사명\t</corpNm>\n",
    "<reperNm>\tString\t대표자명\t</reperNm>\n",
    "2. <totPsncnt>\tNumber\t근로자수\t</totPsncnt>\n",
    "3. <capitalAmt>\tNumber\t자본금\t</capitalAmt>\n",
    "4. <yrSalesAmt>\tNumber\t연매출액\t</yrSalesAmt>\n",
    "5. <indTpCdNm>\tString\t업종\t</indTpCdNm>\n",
    "6. <busiCont>\tString\t주요사업내용\t</busiCont>\n",
    "7. <corpAddr>\tString\t회사주소\t</corpAddr>\n",
    "<homePg>\tString\t회사홈페이지\t</homePg>\n",
    "8. <busiSize>\tString\t회사규모\t</busiSize>\n",
    "9. <jobsNm>\tString\t모집집종\t</jobsNm>\n",
    "10. <wantedTitle>\tString\t구인제목\t</wantedTitle>\n",
    "<relJobsNm>\tString\t관련직종\t</relJobsNm>\n",
    "11. <jobCont>\tString\t직무내용\t</jobCont>\n",
    "12. <receiptCloseDt>\tString\t접수마감일\t</receiptCloseDt>\n",
    "13. <empTpNm>\tString\t고용형태\t</empTpNm>\n",
    "14. <collectPsncnt>\tString\t모집인원\t</collectPsncnt>\n",
    "15. <salTpNm>\tString\t임금조건\t</salTpNm>\n",
    "16. <enterTpNm>\tString\t경력조건\t</enterTpNm>\n",
    "17. <eduNm>\tString\t학력\t</eduNm>\n",
    "18. <forLang>\tString\t외국어\t</forLang>\n",
    "19. <major>\tString\t전공\t</major>\n",
    "20. <certificate>\tString\t자격면허\t</certificate>\n",
    "21. <mltsvcExcHope>\tString\t병역특례채용희망\t</mltsvcExcHope>\n",
    "22. <compAbl>\tString\t컴퓨터활용능력\t</compAbl>\n",
    "23. <pfCond>\tString\t우대조건\t</pfCond>\n",
    "24. <etcPfCond>\tString\t기타우대조건\t</etcPfCond>\n",
    "25. <selMthd>\tString\t전형방법\t</selMthd>\n",
    "26. <rcptMthd>\tString\t접수방법\t</rcptMthd>\n",
    "27. <submitDoc>\tString\t제출서류준비물\t</submitDoc>\n",
    "28. <etcHopeCont>\tString\t기타안내\t</etcHopeCont>\n",
    "29. <workRegion>\tString\t근무예정지\t</workRegion>\n",
    "30. <nearLine>\tString\t인근전철역\t</nearLine>\n",
    "31. <workdayWorkhrCont>\tString\t근무시간/형태\t</workdayWorkhrCont>\n",
    "32. <fourIns>\tString\t연금4대 보험\t</fourIns>\n",
    "33. <retirepay>\tString\t퇴직금\t</retirepay>\n",
    "34. <etcWelfare>\tString\t기타복리후생\t</etcWelfare>\n",
    "35. <disableCvntl>\tString\t장애인편의시설\t</disableCvntl>\n",
    "36. <dtlRecrContUrl>\tString\t상세모집내용 URL\t</dtlRecrContUrl>\n",
    " <minEdubgIcd>\tString\t최소학력코드 </minEdubgIcd>\n",
    "<regionCd>\tString\t근무지역코드\t</regionCd>\n",
    "<empTpCd>\tString\t고용형태코드  </empTpCd>\n",
    "<enterTpCd>\tString\t근무형태코드  </enterTpCd>\n",
    "<salTpCd>\tString\t임금형태코드</salTpCd>\n",
    "<staAreaRegionCd>\tString\t근무지지하철지역코드\t</staAreaRegionCd>\n",
    "<walkDistCd>\tString\t근무지지하철출구거리 </walkDistCd>\n",
    "37. <contactTelno>\tString\t전화번호\t</contactTelno>\n",
    "\n",
    "\n",
    "\n"
   ]
  },
  {
   "cell_type": "code",
   "execution_count": 24,
   "id": "a2b1c605",
   "metadata": {},
   "outputs": [
    {
     "data": {
      "text/plain": [
       "['corpNm',\n",
       " 'totPsncnt',\n",
       " 'capitalAmt',\n",
       " 'yrSalesAmt',\n",
       " 'indTpCdNm',\n",
       " 'busiCont',\n",
       " 'corpAddr',\n",
       " 'busiSize',\n",
       " 'jobsNm',\n",
       " 'wantedTitle',\n",
       " 'jobCont',\n",
       " 'receiptCloseDt',\n",
       " 'empTpNm',\n",
       " 'collectPsncnt',\n",
       " 'salTpNm',\n",
       " 'enterTpNm',\n",
       " 'eduNm',\n",
       " 'forLang',\n",
       " 'major',\n",
       " 'certificate',\n",
       " 'mltsvcExcHope',\n",
       " 'compAbl',\n",
       " 'pfCond',\n",
       " 'etcPfCond',\n",
       " 'selMthd',\n",
       " 'rcptMthd',\n",
       " 'submitDoc',\n",
       " 'etcHopeCont',\n",
       " 'workRegion',\n",
       " 'nearLine',\n",
       " 'workdayWorkhrCont',\n",
       " 'fourIns',\n",
       " 'retirepay',\n",
       " 'etcWelfare',\n",
       " 'disableCvntl',\n",
       " 'dtlRecrContUrl',\n",
       " 'contactTelno']"
      ]
     },
     "execution_count": 24,
     "metadata": {},
     "output_type": "execute_result"
    }
   ],
   "source": [
    "+821067712201info = ['corpNm','totPsncnt','capitalAmt','yrSalesAmt','indTpCdNm','busiCont',\n",
    "     +821067712201  'corpAddr','busiSize','jobsNm','wantedTitle','jobCont','receiptCloseDt',\n",
    "       'empTpNm','collectPsncnt','salTpNm','enterTpNm','eduNm','forLang',\n",
    "       'major','certificate','mltsvcExcHope','compAbl','pfCond','etcPfCond',\n",
    "       'selMthd','rcptMthd','submitDoc','etcHopeCont','workRegion','nearLine',\n",
    "       'workdayWorkhrCont','fourIns','retirepay','etcWelfare','disableCvntl',\n",
    "       'dtlRecrContUrl','contactTelno']\n",
    "info"
   ]
  },
  {
   "cell_type": "code",
   "execution_count": 25,
   "id": "4a5de751",
   "metadata": {},
   "outputs": [
    {
     "data": {
      "text/plain": [
       "'알투웨어(주)'"
      ]
     },
     "execution_count": 25,
     "metadata": {},
     "output_type": "execute_result"
    }
   ],
   "source": [
    "soup.find('corpNm').text"
   ]
  },
  {
   "cell_type": "code",
   "execution_count": 26,
   "id": "a9cfb03d",
   "metadata": {},
   "outputs": [
    {
     "data": {
      "text/plain": [
       "'소프트웨어개발 및 기술인력파견'"
      ]
     },
     "execution_count": 26,
     "metadata": {},
     "output_type": "execute_result"
    }
   ],
   "source": [
    "soup.find(info[5]).text"
   ]
  },
  {
   "cell_type": "code",
   "execution_count": 27,
   "id": "a39da6bd",
   "metadata": {
    "scrolled": true
   },
   "outputs": [
    {
     "data": {
      "text/html": [
       "<div>\n",
       "<style scoped>\n",
       "    .dataframe tbody tr th:only-of-type {\n",
       "        vertical-align: middle;\n",
       "    }\n",
       "\n",
       "    .dataframe tbody tr th {\n",
       "        vertical-align: top;\n",
       "    }\n",
       "\n",
       "    .dataframe thead th {\n",
       "        text-align: right;\n",
       "    }\n",
       "</style>\n",
       "<table border=\"1\" class=\"dataframe\">\n",
       "  <thead>\n",
       "    <tr style=\"text-align: right;\">\n",
       "      <th></th>\n",
       "      <th>회사명</th>\n",
       "      <th>근로자수</th>\n",
       "      <th>자본금</th>\n",
       "      <th>연매출액</th>\n",
       "      <th>업종</th>\n",
       "      <th>주요사업내용</th>\n",
       "      <th>회사주소</th>\n",
       "      <th>회사규모</th>\n",
       "      <th>모집직종</th>\n",
       "      <th>구인제목</th>\n",
       "      <th>...</th>\n",
       "      <th>기타안내</th>\n",
       "      <th>근무예정지</th>\n",
       "      <th>인근전철역</th>\n",
       "      <th>근무시간/형태</th>\n",
       "      <th>연금4대보험</th>\n",
       "      <th>퇴직금</th>\n",
       "      <th>기타복리후생</th>\n",
       "      <th>장애인편의시설</th>\n",
       "      <th>상세모집내용URL</th>\n",
       "      <th>전화번호</th>\n",
       "    </tr>\n",
       "  </thead>\n",
       "  <tbody>\n",
       "  </tbody>\n",
       "</table>\n",
       "<p>0 rows × 37 columns</p>\n",
       "</div>"
      ],
      "text/plain": [
       "Empty DataFrame\n",
       "Columns: [회사명, 근로자수, 자본금, 연매출액, 업종, 주요사업내용, 회사주소, 회사규모, 모집직종, 구인제목, 직무내용, 접수마감일, 고용형태, 모집인원, 임금조건, 경력조건, 학력, 외국어, 전공, 자격면허, 병역특례채용희망, 컴활능력, 우대조건, 기타우대조건, 전형방법, 접수방법, 제출서류준비물, 기타안내, 근무예정지, 인근전철역, 근무시간/형태, 연금4대보험, 퇴직금, 기타복리후생, 장애인편의시설, 상세모집내용URL, 전화번호]\n",
       "Index: []\n",
       "\n",
       "[0 rows x 37 columns]"
      ]
     },
     "execution_count": 27,
     "metadata": {},
     "output_type": "execute_result"
    }
   ],
   "source": [
    "worknet_df = pd.DataFrame(columns=['회사명','근로자수','자본금','연매출액',\n",
    "                                  '업종','주요사업내용','회사주소','회사규모',\n",
    "                                  '모집직종','구인제목','직무내용','접수마감일','고용형태',\n",
    "                                  '모집인원','임금조건','경력조건','학력','외국어','전공',\n",
    "                                  '자격면허','병역특례채용희망','컴활능력','우대조건','기타우대조건',\n",
    "                                  '전형방법','접수방법','제출서류준비물','기타안내','근무예정지',\n",
    "                                  '인근전철역','근무시간/형태','연금4대보험','퇴직금','기타복리후생','장애인편의시설',\n",
    "                                  '상세모집내용URL','전화번호'])\n",
    "\n",
    "worknet_df"
   ]
  },
  {
   "cell_type": "code",
   "execution_count": 28,
   "id": "bbeef544",
   "metadata": {},
   "outputs": [
    {
     "data": {
      "text/html": [
       "<div>\n",
       "<style scoped>\n",
       "    .dataframe tbody tr th:only-of-type {\n",
       "        vertical-align: middle;\n",
       "    }\n",
       "\n",
       "    .dataframe tbody tr th {\n",
       "        vertical-align: top;\n",
       "    }\n",
       "\n",
       "    .dataframe thead th {\n",
       "        text-align: right;\n",
       "    }\n",
       "</style>\n",
       "<table border=\"1\" class=\"dataframe\">\n",
       "  <thead>\n",
       "    <tr style=\"text-align: right;\">\n",
       "      <th></th>\n",
       "      <th>회사명</th>\n",
       "      <th>근로자수</th>\n",
       "      <th>자본금</th>\n",
       "      <th>연매출액</th>\n",
       "      <th>업종</th>\n",
       "      <th>주요사업내용</th>\n",
       "      <th>회사주소</th>\n",
       "      <th>회사규모</th>\n",
       "      <th>모집직종</th>\n",
       "      <th>구인제목</th>\n",
       "      <th>...</th>\n",
       "      <th>기타안내</th>\n",
       "      <th>근무예정지</th>\n",
       "      <th>인근전철역</th>\n",
       "      <th>근무시간/형태</th>\n",
       "      <th>연금4대보험</th>\n",
       "      <th>퇴직금</th>\n",
       "      <th>기타복리후생</th>\n",
       "      <th>장애인편의시설</th>\n",
       "      <th>상세모집내용URL</th>\n",
       "      <th>전화번호</th>\n",
       "    </tr>\n",
       "  </thead>\n",
       "  <tbody>\n",
       "    <tr>\n",
       "      <th>0</th>\n",
       "      <td>알투웨어(주)</td>\n",
       "      <td>30 명</td>\n",
       "      <td>210 백만원</td>\n",
       "      <td>80000 백만원</td>\n",
       "      <td>시스템 소프트웨어 개발 및 공급업</td>\n",
       "      <td>소프트웨어개발 및 기술인력파견</td>\n",
       "      <td>04788 서울특별시 성동구 광나루로 130, 서울숲IT캐슬 303호 (성수동1가)</td>\n",
       "      <td>중소기업</td>\n",
       "      <td>IT 기술지원 전문가(134303)</td>\n",
       "      <td>[Software Engineer] 알투웨어 기술지원팀 채용 (주4.5일)</td>\n",
       "      <td>...</td>\n",
       "      <td></td>\n",
       "      <td>(04788)  서울특별시 성동구 광나루로 130, 서울숲IT캐슬 303호 (성수동1가)</td>\n",
       "      <td>2호선 뚝섬 1번출구 500M</td>\n",
       "      <td>평일 : 주 5일(월~목) 09:00~18:00 (금) 09:00~14:00, 주 ...</td>\n",
       "      <td>국민연금 고용보험 산재보험 의료보험</td>\n",
       "      <td>퇴직연금</td>\n",
       "      <td>기타(4.5일 근무제, 건강검진, 자기개발비, 경조사비, 4대보험, 퇴직연금, 명절...</td>\n",
       "      <td></td>\n",
       "      <td>http://www.work.go.kr/outOffer/empInfo/empDeta...</td>\n",
       "      <td>02-422-8005</td>\n",
       "    </tr>\n",
       "    <tr>\n",
       "      <th>1</th>\n",
       "      <td>제주한라대학산학협력단</td>\n",
       "      <td>25 명</td>\n",
       "      <td>0 백만원</td>\n",
       "      <td>0 백만원</td>\n",
       "      <td>교육 서비스업</td>\n",
       "      <td>교육서비스업</td>\n",
       "      <td>63092 제주특별자치도 제주시 한라대학로 38 (노형동)</td>\n",
       "      <td>기타</td>\n",
       "      <td>데이터 분석가(빅데이터 분석가)(134102)</td>\n",
       "      <td>제주한라대학교 산학협력단(지역특화산업육성+[R&amp;D]-지역주력산업육성)미래문화기술연 ...</td>\n",
       "      <td>...</td>\n",
       "      <td></td>\n",
       "      <td>(63092)  제주특별자치도 제주시 한라대학로 38 (노형동)</td>\n",
       "      <td></td>\n",
       "      <td>평일 : (오전) 9시 00분~(오후) 5시 00분, 주 5일 근무, 평균근무시간 ...</td>\n",
       "      <td>국민연금 고용보험 산재보험 의료보험</td>\n",
       "      <td>해당없음</td>\n",
       "      <td></td>\n",
       "      <td></td>\n",
       "      <td>http://www.work.go.kr/outOffer/empInfo/empDeta...</td>\n",
       "      <td>064-741-7476</td>\n",
       "    </tr>\n",
       "    <tr>\n",
       "      <th>2</th>\n",
       "      <td>(주)베이소프트</td>\n",
       "      <td>3 명</td>\n",
       "      <td>0 백만원</td>\n",
       "      <td>0 백만원</td>\n",
       "      <td>컴퓨터 프로그래밍 서비스업</td>\n",
       "      <td>데이터분석, 소프트웨어개발, SI</td>\n",
       "      <td>06693 서울특별시 서초구 방배천로2길 21, 4층 410호 (방배동)</td>\n",
       "      <td></td>\n",
       "      <td>웹 개발자(웹 엔지니어·웹 프로그래머)(133301)</td>\n",
       "      <td>IT개발·데이터 정규직/계약직 채용합니다</td>\n",
       "      <td>...</td>\n",
       "      <td></td>\n",
       "      <td>(06693)  서울특별시 서초구 방배천로2길 21, 4층 410호 (방배동)</td>\n",
       "      <td>4호선 사당 14번출구 200M</td>\n",
       "      <td>평일 : (오전) 9시 00분~(오후) 6시 00분, 주 5일 근무, 평균근무시간 ...</td>\n",
       "      <td>국민연금 고용보험 산재보험 의료보험</td>\n",
       "      <td>퇴직금</td>\n",
       "      <td></td>\n",
       "      <td></td>\n",
       "      <td>http://www.work.go.kr/outOffer/empInfo/empDeta...</td>\n",
       "      <td>070-4116-2876</td>\n",
       "    </tr>\n",
       "    <tr>\n",
       "      <th>3</th>\n",
       "      <td>스페이스플래닝</td>\n",
       "      <td>2 명</td>\n",
       "      <td>1 백만원</td>\n",
       "      <td>0 백만원</td>\n",
       "      <td>포털 및 기타 인터넷 정보매개 서비스업</td>\n",
       "      <td>인테리어 빅데이터 플랫폼</td>\n",
       "      <td>61472 광주광역시 동구 금남로 193-12, AI창업캠프2호점 303호 (금남로4가)</td>\n",
       "      <td></td>\n",
       "      <td>데이터 분석가(빅데이터 분석가)(134102)</td>\n",
       "      <td>데이터 분석 담당자 구인합니다</td>\n",
       "      <td>...</td>\n",
       "      <td>스톡옵션 등 초기 인원으로서의 메리트를 드리고자 합니다 \\r\\n데이터 관련해서 전문...</td>\n",
       "      <td>(61472)  광주광역시 동구 금남로 193-12, AI창업캠프2호점 303호 (...</td>\n",
       "      <td>1호선 금남로4가 3번출구 10M</td>\n",
       "      <td>평일 : (오전) 9시 00분~(오후) 6시 00분, 주 5일 근무, 평균근무시간 ...</td>\n",
       "      <td>국민연금 고용보험 산재보험 의료보험</td>\n",
       "      <td>퇴직금</td>\n",
       "      <td></td>\n",
       "      <td></td>\n",
       "      <td>http://www.work.go.kr/outOffer/empInfo/empDeta...</td>\n",
       "      <td>062-225-2224</td>\n",
       "    </tr>\n",
       "    <tr>\n",
       "      <th>4</th>\n",
       "      <td>(주)씨앤씨솔루션</td>\n",
       "      <td>8 명</td>\n",
       "      <td>NaN</td>\n",
       "      <td>NaN</td>\n",
       "      <td>그 외 기타 특수목적용 기계 제조업</td>\n",
       "      <td>수질환경</td>\n",
       "      <td>46751 부산광역시 강서구 녹산산업중로 62-6, C&amp;C SOLUTION</td>\n",
       "      <td>중소기업</td>\n",
       "      <td>데이터 설계 및 프로그래머(134101)</td>\n",
       "      <td>기계 설계 경력직 채용</td>\n",
       "      <td>...</td>\n",
       "      <td></td>\n",
       "      <td>(46751)  부산광역시 강서구 녹산산업중로 62-6, C&amp;C SOLUTION</td>\n",
       "      <td></td>\n",
       "      <td>평일 : (오전) 9시 00분~(오후) 6시 00분, 주 5일 근무, 평균근무시간 ...</td>\n",
       "      <td>국민연금 고용보험 산재보험 의료보험</td>\n",
       "      <td>퇴직금</td>\n",
       "      <td>차량유지비</td>\n",
       "      <td></td>\n",
       "      <td>http://www.work.go.kr/outOffer/empInfo/empDeta...</td>\n",
       "      <td>051-941-2814</td>\n",
       "    </tr>\n",
       "    <tr>\n",
       "      <th>...</th>\n",
       "      <td>...</td>\n",
       "      <td>...</td>\n",
       "      <td>...</td>\n",
       "      <td>...</td>\n",
       "      <td>...</td>\n",
       "      <td>...</td>\n",
       "      <td>...</td>\n",
       "      <td>...</td>\n",
       "      <td>...</td>\n",
       "      <td>...</td>\n",
       "      <td>...</td>\n",
       "      <td>...</td>\n",
       "      <td>...</td>\n",
       "      <td>...</td>\n",
       "      <td>...</td>\n",
       "      <td>...</td>\n",
       "      <td>...</td>\n",
       "      <td>...</td>\n",
       "      <td>...</td>\n",
       "      <td>...</td>\n",
       "      <td>...</td>\n",
       "    </tr>\n",
       "    <tr>\n",
       "      <th>152</th>\n",
       "      <td>(주)한솥</td>\n",
       "      <td>35 명</td>\n",
       "      <td>105 백만원</td>\n",
       "      <td>99590 백만원</td>\n",
       "      <td>기타 가공식품 도매업</td>\n",
       "      <td>도시락 체인본부</td>\n",
       "      <td>135937 서울특별시 강남구 강남대로 318, 타워837빌딩 8,9층 (역삼동)</td>\n",
       "      <td>중견기업</td>\n",
       "      <td>데이터 전문가(134100)</td>\n",
       "      <td>(주)한솥 디지털 기획 운영팀 IT담당 경력사원 채용</td>\n",
       "      <td>...</td>\n",
       "      <td></td>\n",
       "      <td>(135937)  서울특별시 강남구 강남대로 318, 타워837빌딩 8,9층 (역삼동)</td>\n",
       "      <td>신분당선 강남 4번출구 200M</td>\n",
       "      <td>평일 : (오전) 9시 00분~(오후) 6시 00분, 주 5일 근무, 평균근무시간 ...</td>\n",
       "      <td>국민연금 고용보험 산재보험 의료보험</td>\n",
       "      <td>퇴직금</td>\n",
       "      <td>기타(건강검진, 경조휴가, 경조금, 자녀학자금, 휴양소(법인콘도), 독감예방접종, ...</td>\n",
       "      <td></td>\n",
       "      <td>http://www.work.go.kr/outOffer/empInfo/empDeta...</td>\n",
       "      <td>02-2033-9632</td>\n",
       "    </tr>\n",
       "    <tr>\n",
       "      <th>153</th>\n",
       "      <td>나이스지니데이타</td>\n",
       "      <td>56 명</td>\n",
       "      <td>0 백만원</td>\n",
       "      <td>0 백만원</td>\n",
       "      <td>데이터베이스 및 온라인정보 제공업</td>\n",
       "      <td>데이터 분석 및 판매</td>\n",
       "      <td>07242 서울특별시 영등포구 은행로 30, 7층(여의도동, 중소기업중앙회 신관) ...</td>\n",
       "      <td>중견기업</td>\n",
       "      <td>데이터 분석가(빅데이터 분석가)(134102)</td>\n",
       "      <td>[NICE 지니데이타] 빅데이터분석 컨설팅 신입직원 채용</td>\n",
       "      <td>...</td>\n",
       "      <td></td>\n",
       "      <td>(07242)  서울특별시 영등포구 은행로 30, 7층(여의도동, 중소기업중앙회 신...</td>\n",
       "      <td>9호선 국회의사당 3번출구 200M</td>\n",
       "      <td>평일 : (오전) 9시 00분~(오후) 6시 00분, 주 5일 근무, 평균근무시간 ...</td>\n",
       "      <td>국민연금 고용보험 산재보험 의료보험</td>\n",
       "      <td>퇴직금</td>\n",
       "      <td>교육비 지원</td>\n",
       "      <td></td>\n",
       "      <td>http://www.work.go.kr/outOffer/empInfo/empDeta...</td>\n",
       "      <td>02-2639-2398</td>\n",
       "    </tr>\n",
       "    <tr>\n",
       "      <th>154</th>\n",
       "      <td>나이스지니데이타</td>\n",
       "      <td>56 명</td>\n",
       "      <td>0 백만원</td>\n",
       "      <td>0 백만원</td>\n",
       "      <td>데이터베이스 및 온라인정보 제공업</td>\n",
       "      <td>데이터 분석 및 판매</td>\n",
       "      <td>07242 서울특별시 영등포구 은행로 30, 7층(여의도동, 중소기업중앙회 신관) ...</td>\n",
       "      <td>중견기업</td>\n",
       "      <td>데이터 분석가(빅데이터 분석가)(134102)</td>\n",
       "      <td>[NICE 지니데이타] 빅데이터분석 컨설팅 경력직원 채용</td>\n",
       "      <td>...</td>\n",
       "      <td></td>\n",
       "      <td>(07242)  서울특별시 영등포구 은행로 30, 7층(여의도동, 중소기업중앙회 신...</td>\n",
       "      <td></td>\n",
       "      <td>평일 : (오전) 9시 00분~(오후) 6시 00분, 주 5일 근무, 평균근무시간 ...</td>\n",
       "      <td>국민연금 고용보험 산재보험 의료보험</td>\n",
       "      <td>퇴직금</td>\n",
       "      <td></td>\n",
       "      <td></td>\n",
       "      <td>http://www.work.go.kr/outOffer/empInfo/empDeta...</td>\n",
       "      <td>02-2639-2398</td>\n",
       "    </tr>\n",
       "    <tr>\n",
       "      <th>155</th>\n",
       "      <td>(주)지오비전</td>\n",
       "      <td>40 명</td>\n",
       "      <td>202 백만원</td>\n",
       "      <td>799 백만원</td>\n",
       "      <td>응용 소프트웨어 개발 및 공급업</td>\n",
       "      <td>지능형 영상분석 솔루션</td>\n",
       "      <td>24341 강원도 춘천시 강원대학길 1, 보듬관 404, 405호</td>\n",
       "      <td>중소기업</td>\n",
       "      <td>시스템 소프트웨어 개발자(133100)</td>\n",
       "      <td>데이터 분석 및 빅데이터 기반 딥러닝 경력/석사 채용(서울/춘천)</td>\n",
       "      <td>...</td>\n",
       "      <td></td>\n",
       "      <td>(24341)  강원도 춘천시 강원대학길 1, 보듬관 404, 405호</td>\n",
       "      <td>2호선 구로디지털단지 2번출구 800M</td>\n",
       "      <td>평일 : (오전) 9시 30분 ~ (오후) 6시 30분, 주 5일 근무, 평균근무시...</td>\n",
       "      <td>국민연금 고용보험 산재보험 의료보험</td>\n",
       "      <td>퇴직금</td>\n",
       "      <td>기타(- 주 5일 근무 ( 연차,반차 )  -- 주5일근무시간 (탄력출퇴근제)\\r\\...</td>\n",
       "      <td></td>\n",
       "      <td>http://www.work.go.kr/outOffer/empInfo/empDeta...</td>\n",
       "      <td></td>\n",
       "    </tr>\n",
       "    <tr>\n",
       "      <th>156</th>\n",
       "      <td>브래키츠</td>\n",
       "      <td>6 명</td>\n",
       "      <td>0 백만원</td>\n",
       "      <td>0 백만원</td>\n",
       "      <td>컴퓨터시스템 통합 자문 및 구축 서비스업</td>\n",
       "      <td>AI, 빅데이터, 데이터비주얼라이션</td>\n",
       "      <td>07327 서울특별시 영등포구 국제금융로 20, 591호 (여의도동)</td>\n",
       "      <td>중소기업</td>\n",
       "      <td>데이터 분석가(빅데이터 분석가)(134102)</td>\n",
       "      <td>데이터 분석 및 시각화</td>\n",
       "      <td>...</td>\n",
       "      <td></td>\n",
       "      <td>(07327)  서울특별시 영등포구 국제금융로 20, 591호 (여의도동)</td>\n",
       "      <td></td>\n",
       "      <td>평일 : (오전) 9시 00분~(오후) 6시 00분, 주 5일 근무, 평균근무시간 ...</td>\n",
       "      <td>국민연금 고용보험 산재보험 의료보험</td>\n",
       "      <td>퇴직연금</td>\n",
       "      <td></td>\n",
       "      <td></td>\n",
       "      <td>http://www.work.go.kr/outOffer/empInfo/empDeta...</td>\n",
       "      <td>02-2639-2400</td>\n",
       "    </tr>\n",
       "  </tbody>\n",
       "</table>\n",
       "<p>157 rows × 37 columns</p>\n",
       "</div>"
      ],
      "text/plain": [
       "             회사명  근로자수      자본금       연매출액                      업종  \\\n",
       "0        알투웨어(주)  30 명  210 백만원  80000 백만원      시스템 소프트웨어 개발 및 공급업   \n",
       "1    제주한라대학산학협력단  25 명    0 백만원      0 백만원                 교육 서비스업   \n",
       "2       (주)베이소프트   3 명    0 백만원      0 백만원          컴퓨터 프로그래밍 서비스업   \n",
       "3        스페이스플래닝   2 명    1 백만원      0 백만원   포털 및 기타 인터넷 정보매개 서비스업   \n",
       "4      (주)씨앤씨솔루션   8 명      NaN        NaN     그 외 기타 특수목적용 기계 제조업   \n",
       "..           ...   ...      ...        ...                     ...   \n",
       "152        (주)한솥  35 명  105 백만원  99590 백만원             기타 가공식품 도매업   \n",
       "153     나이스지니데이타  56 명    0 백만원      0 백만원      데이터베이스 및 온라인정보 제공업   \n",
       "154     나이스지니데이타  56 명    0 백만원      0 백만원      데이터베이스 및 온라인정보 제공업   \n",
       "155      (주)지오비전  40 명  202 백만원    799 백만원       응용 소프트웨어 개발 및 공급업   \n",
       "156         브래키츠   6 명    0 백만원      0 백만원  컴퓨터시스템 통합 자문 및 구축 서비스업   \n",
       "\n",
       "                  주요사업내용                                               회사주소  \\\n",
       "0       소프트웨어개발 및 기술인력파견     04788 서울특별시 성동구 광나루로 130, 서울숲IT캐슬 303호 (성수동1가)   \n",
       "1                 교육서비스업                   63092 제주특별자치도 제주시 한라대학로 38 (노형동)   \n",
       "2     데이터분석, 소프트웨어개발, SI           06693 서울특별시 서초구 방배천로2길 21, 4층 410호 (방배동)   \n",
       "3          인테리어 빅데이터 플랫폼  61472 광주광역시 동구 금남로 193-12, AI창업캠프2호점 303호 (금남로4가)   \n",
       "4                   수질환경         46751 부산광역시 강서구 녹산산업중로 62-6, C&C SOLUTION    \n",
       "..                   ...                                                ...   \n",
       "152             도시락 체인본부      135937 서울특별시 강남구 강남대로 318, 타워837빌딩 8,9층 (역삼동)   \n",
       "153          데이터 분석 및 판매  07242 서울특별시 영등포구 은행로 30, 7층(여의도동, 중소기업중앙회 신관) ...   \n",
       "154          데이터 분석 및 판매  07242 서울특별시 영등포구 은행로 30, 7층(여의도동, 중소기업중앙회 신관) ...   \n",
       "155         지능형 영상분석 솔루션              24341 강원도 춘천시 강원대학길 1, 보듬관 404, 405호    \n",
       "156  AI, 빅데이터, 데이터비주얼라이션             07327 서울특별시 영등포구 국제금융로 20, 591호 (여의도동)   \n",
       "\n",
       "     회사규모                           모집직종  \\\n",
       "0    중소기업            IT 기술지원 전문가(134303)   \n",
       "1      기타      데이터 분석가(빅데이터 분석가)(134102)   \n",
       "2          웹 개발자(웹 엔지니어·웹 프로그래머)(133301)   \n",
       "3              데이터 분석가(빅데이터 분석가)(134102)   \n",
       "4    중소기업         데이터 설계 및 프로그래머(134101)   \n",
       "..    ...                            ...   \n",
       "152  중견기업                데이터 전문가(134100)   \n",
       "153  중견기업      데이터 분석가(빅데이터 분석가)(134102)   \n",
       "154  중견기업      데이터 분석가(빅데이터 분석가)(134102)   \n",
       "155  중소기업          시스템 소프트웨어 개발자(133100)   \n",
       "156  중소기업      데이터 분석가(빅데이터 분석가)(134102)   \n",
       "\n",
       "                                                  구인제목  ...  \\\n",
       "0            [Software Engineer] 알투웨어 기술지원팀 채용 (주4.5일)  ...   \n",
       "1    제주한라대학교 산학협력단(지역특화산업육성+[R&D]-지역주력산업육성)미래문화기술연 ...  ...   \n",
       "2                               IT개발·데이터 정규직/계약직 채용합니다  ...   \n",
       "3                                     데이터 분석 담당자 구인합니다  ...   \n",
       "4                                         기계 설계 경력직 채용  ...   \n",
       "..                                                 ...  ...   \n",
       "152                      (주)한솥 디지털 기획 운영팀 IT담당 경력사원 채용  ...   \n",
       "153                    [NICE 지니데이타] 빅데이터분석 컨설팅 신입직원 채용  ...   \n",
       "154                    [NICE 지니데이타] 빅데이터분석 컨설팅 경력직원 채용  ...   \n",
       "155               데이터 분석 및 빅데이터 기반 딥러닝 경력/석사 채용(서울/춘천)  ...   \n",
       "156                                       데이터 분석 및 시각화  ...   \n",
       "\n",
       "                                                  기타안내  \\\n",
       "0                                                        \n",
       "1                                                        \n",
       "2                                                        \n",
       "3    스톡옵션 등 초기 인원으로서의 메리트를 드리고자 합니다 \\r\\n데이터 관련해서 전문...   \n",
       "4                                                        \n",
       "..                                                 ...   \n",
       "152                                                      \n",
       "153                                                      \n",
       "154                                                      \n",
       "155                                                      \n",
       "156                                                      \n",
       "\n",
       "                                                 근무예정지                  인근전철역  \\\n",
       "0    (04788)  서울특별시 성동구 광나루로 130, 서울숲IT캐슬 303호 (성수동1가)       2호선 뚝섬 1번출구 500M   \n",
       "1                  (63092)  제주특별자치도 제주시 한라대학로 38 (노형동)                          \n",
       "2          (06693)  서울특별시 서초구 방배천로2길 21, 4층 410호 (방배동)      4호선 사당 14번출구 200M   \n",
       "3    (61472)  광주광역시 동구 금남로 193-12, AI창업캠프2호점 303호 (...     1호선 금남로4가 3번출구 10M   \n",
       "4         (46751)  부산광역시 강서구 녹산산업중로 62-6, C&C SOLUTION                          \n",
       "..                                                 ...                    ...   \n",
       "152   (135937)  서울특별시 강남구 강남대로 318, 타워837빌딩 8,9층 (역삼동)      신분당선 강남 4번출구 200M   \n",
       "153  (07242)  서울특별시 영등포구 은행로 30, 7층(여의도동, 중소기업중앙회 신...    9호선 국회의사당 3번출구 200M   \n",
       "154  (07242)  서울특별시 영등포구 은행로 30, 7층(여의도동, 중소기업중앙회 신...                          \n",
       "155            (24341)  강원도 춘천시 강원대학길 1, 보듬관 404, 405호  2호선 구로디지털단지 2번출구 800M   \n",
       "156          (07327)  서울특별시 영등포구 국제금융로 20, 591호 (여의도동)                          \n",
       "\n",
       "                                               근무시간/형태               연금4대보험  \\\n",
       "0    평일 : 주 5일(월~목) 09:00~18:00 (금) 09:00~14:00, 주 ...  국민연금 고용보험 산재보험 의료보험   \n",
       "1    평일 : (오전) 9시 00분~(오후) 5시 00분, 주 5일 근무, 평균근무시간 ...  국민연금 고용보험 산재보험 의료보험   \n",
       "2    평일 : (오전) 9시 00분~(오후) 6시 00분, 주 5일 근무, 평균근무시간 ...  국민연금 고용보험 산재보험 의료보험   \n",
       "3    평일 : (오전) 9시 00분~(오후) 6시 00분, 주 5일 근무, 평균근무시간 ...  국민연금 고용보험 산재보험 의료보험   \n",
       "4    평일 : (오전) 9시 00분~(오후) 6시 00분, 주 5일 근무, 평균근무시간 ...  국민연금 고용보험 산재보험 의료보험   \n",
       "..                                                 ...                  ...   \n",
       "152  평일 : (오전) 9시 00분~(오후) 6시 00분, 주 5일 근무, 평균근무시간 ...  국민연금 고용보험 산재보험 의료보험   \n",
       "153  평일 : (오전) 9시 00분~(오후) 6시 00분, 주 5일 근무, 평균근무시간 ...  국민연금 고용보험 산재보험 의료보험   \n",
       "154  평일 : (오전) 9시 00분~(오후) 6시 00분, 주 5일 근무, 평균근무시간 ...  국민연금 고용보험 산재보험 의료보험   \n",
       "155  평일 : (오전) 9시 30분 ~ (오후) 6시 30분, 주 5일 근무, 평균근무시...  국민연금 고용보험 산재보험 의료보험   \n",
       "156  평일 : (오전) 9시 00분~(오후) 6시 00분, 주 5일 근무, 평균근무시간 ...  국민연금 고용보험 산재보험 의료보험   \n",
       "\n",
       "      퇴직금                                             기타복리후생 장애인편의시설  \\\n",
       "0    퇴직연금  기타(4.5일 근무제, 건강검진, 자기개발비, 경조사비, 4대보험, 퇴직연금, 명절...           \n",
       "1    해당없음                                                              \n",
       "2     퇴직금                                                              \n",
       "3     퇴직금                                                              \n",
       "4     퇴직금                                              차량유지비           \n",
       "..    ...                                                ...     ...   \n",
       "152   퇴직금  기타(건강검진, 경조휴가, 경조금, 자녀학자금, 휴양소(법인콘도), 독감예방접종, ...           \n",
       "153   퇴직금                                             교육비 지원           \n",
       "154   퇴직금                                                              \n",
       "155   퇴직금  기타(- 주 5일 근무 ( 연차,반차 )  -- 주5일근무시간 (탄력출퇴근제)\\r\\...           \n",
       "156  퇴직연금                                                              \n",
       "\n",
       "                                             상세모집내용URL           전화번호  \n",
       "0    http://www.work.go.kr/outOffer/empInfo/empDeta...    02-422-8005  \n",
       "1    http://www.work.go.kr/outOffer/empInfo/empDeta...   064-741-7476  \n",
       "2    http://www.work.go.kr/outOffer/empInfo/empDeta...  070-4116-2876  \n",
       "3    http://www.work.go.kr/outOffer/empInfo/empDeta...   062-225-2224  \n",
       "4    http://www.work.go.kr/outOffer/empInfo/empDeta...   051-941-2814  \n",
       "..                                                 ...            ...  \n",
       "152  http://www.work.go.kr/outOffer/empInfo/empDeta...   02-2033-9632  \n",
       "153  http://www.work.go.kr/outOffer/empInfo/empDeta...   02-2639-2398  \n",
       "154  http://www.work.go.kr/outOffer/empInfo/empDeta...   02-2639-2398  \n",
       "155  http://www.work.go.kr/outOffer/empInfo/empDeta...                 \n",
       "156  http://www.work.go.kr/outOffer/empInfo/empDeta...   02-2639-2400  \n",
       "\n",
       "[157 rows x 37 columns]"
      ]
     },
     "execution_count": 28,
     "metadata": {},
     "output_type": "execute_result"
    }
   ],
   "source": [
    "# 상세 정보에 없는 값이 있어서 AttributeError 발생 해서 예외처리 작업 실시 , 오류 발생 시 nan 값을 집어넣었다.\n",
    "key = pd.read_csv('/Users/snoo/key/worknet_key.txt').columns[0]\n",
    "\n",
    "for i in guin_num_all:\n",
    "    url = 'http://openapi.work.go.kr/opi/opi/opia/wantedApi.do?authKey='+key+\\\n",
    "    '&callTp=D&returnType=XML&wantedAuthNo='+i+'&infoSvc=VALIDATION'\n",
    "    res = requests.get(url)\n",
    "    text = res.text\n",
    "    soup = BeautifulSoup(text,'lxml-xml')\n",
    "    info_list = []\n",
    "    for j in info:\n",
    "        try:        \n",
    "            info_list.append(soup.find(j).text)\n",
    "        except AttributeError:\n",
    "            info_list.append(np.nan)\n",
    "    worknet_df = worknet_df.append(pd.Series(info_list,index=worknet_df.columns),ignore_index=True)\n",
    "worknet_df"
   ]
  },
  {
   "cell_type": "code",
   "execution_count": 29,
   "id": "750043bb",
   "metadata": {},
   "outputs": [
    {
     "data": {
      "text/plain": [
       "(157, 37)"
      ]
     },
     "execution_count": 29,
     "metadata": {},
     "output_type": "execute_result"
    }
   ],
   "source": [
    "worknet_df.shape"
   ]
  },
  {
   "cell_type": "code",
   "execution_count": 30,
   "id": "7fc55fe2",
   "metadata": {},
   "outputs": [],
   "source": [
    "worknet_df.to_csv('/Users/snoo/enterprise/worknet_df.csv',index=False)"
   ]
  },
  {
   "cell_type": "code",
   "execution_count": 61,
   "id": "76fa0838",
   "metadata": {},
   "outputs": [],
   "source": [
    "worknet_df =pd.read_csv('/Users/snoo/enterprise/worknet_df.csv')"
   ]
  },
  {
   "cell_type": "code",
   "execution_count": 66,
   "id": "30d0e519",
   "metadata": {},
   "outputs": [],
   "source": [
    "worknet_df1 = worknet_df.copy()"
   ]
  },
  {
   "cell_type": "code",
   "execution_count": 67,
   "id": "272a9815",
   "metadata": {},
   "outputs": [
    {
     "data": {
      "text/plain": [
       "회사명            0\n",
       "근로자수           0\n",
       "자본금            7\n",
       "연매출액           9\n",
       "업종             0\n",
       "주요사업내용         0\n",
       "회사주소           0\n",
       "회사규모          27\n",
       "모집직종           0\n",
       "구인제목           0\n",
       "직무내용           0\n",
       "접수마감일          0\n",
       "고용형태           0\n",
       "모집인원           0\n",
       "임금조건           0\n",
       "경력조건           0\n",
       "학력             0\n",
       "외국어          140\n",
       "전공            86\n",
       "자격면허          92\n",
       "병역특례채용희망       0\n",
       "컴활능력          82\n",
       "우대조건         120\n",
       "기타우대조건       127\n",
       "전형방법           0\n",
       "접수방법           0\n",
       "제출서류준비물        1\n",
       "기타안내         143\n",
       "근무예정지          0\n",
       "인근전철역          0\n",
       "근무시간/형태        0\n",
       "연금4대보험         0\n",
       "퇴직금            0\n",
       "기타복리후생       111\n",
       "장애인편의시설      156\n",
       "상세모집내용URL      0\n",
       "전화번호          22\n",
       "dtype: int64"
      ]
     },
     "execution_count": 67,
     "metadata": {},
     "output_type": "execute_result"
    }
   ],
   "source": [
    "worknet_df1.isnull().sum()"
   ]
  },
  {
   "cell_type": "code",
   "execution_count": 68,
   "id": "b173ed92",
   "metadata": {},
   "outputs": [],
   "source": [
    "# 태블로우에서 nan 값이나 ''값은 인식 못해서 스페이스 하나 넣어줬다. = 태블로우에선 Null 로 나온다. \n",
    "# 이제 주소만 따서 좌표값 추가해주고 바꿔줄거 자본금, 매출 등등 숫자형태로 바꿔줘야겠다. \n",
    "worknet_df1 = worknet_df1.fillna(' ')\n",
    "worknet_df1.to_csv('/Users/snoo/enterprise/worknet_df1.csv',index=False)"
   ]
  },
  {
   "cell_type": "code",
   "execution_count": 69,
   "id": "a31b9e53",
   "metadata": {},
   "outputs": [
    {
     "data": {
      "text/plain": [
       "회사명                                                   (주)베이소프트\n",
       "근로자수                                                       3 명\n",
       "자본금                                                      0 백만원\n",
       "연매출액                                                     0 백만원\n",
       "업종                                              컴퓨터 프로그래밍 서비스업\n",
       "주요사업내용                                      데이터분석, 소프트웨어개발, SI\n",
       "회사주소                  06693 서울특별시 서초구 방배천로2길 21, 4층 410호 (방배동)\n",
       "회사규모                                                          \n",
       "모집직종                             웹 개발자(웹 엔지니어·웹 프로그래머)(133301)\n",
       "구인제목                                    IT개발·데이터 정규직/계약직 채용합니다\n",
       "직무내용         &lt;&lt; 웹 개발자 &gt;&gt;\\r\\n담당업무\\r\\nㆍ웹 개발\\r\\n- ...\n",
       "접수마감일                                                    채용시까지\n",
       "고용형태                     기간의 정함이 없는 근로계약/ 파견근로 비희망/ 대체인력채용 비희망\n",
       "모집인원                                                         3\n",
       "임금조건                        연봉23,000,000원 이상 ~ 70,000,000원 이하,\n",
       "경력조건                                                      관계없음\n",
       "학력                                                        학력무관\n",
       "외국어                                                           \n",
       "전공                                                            \n",
       "자격면허                                                    정보처리기사\n",
       "병역특례채용희망                                                   비희망\n",
       "컴활능력                                                          \n",
       "우대조건                                                          \n",
       "기타우대조건                                                        \n",
       "전형방법                                                     서류,면접\n",
       "접수방법                                                       워크넷\n",
       "제출서류준비물                                        이력서,자기소개서,경력증명서\n",
       "기타안내                                                          \n",
       "근무예정지              (06693)  서울특별시 서초구 방배천로2길 21, 4층 410호 (방배동)\n",
       "인근전철역                                        4호선 사당 14번출구 200M\n",
       "근무시간/형태      평일 : (오전) 9시 00분~(오후) 6시 00분, 주 5일 근무, 평균근무시간 ...\n",
       "연금4대보험                                     국민연금 고용보험 산재보험 의료보험\n",
       "퇴직금                                                        퇴직금\n",
       "기타복리후생                                                        \n",
       "장애인편의시설                                                       \n",
       "상세모집내용URL    http://www.work.go.kr/outOffer/empInfo/empDeta...\n",
       "전화번호                                             070-4116-2876\n",
       "Name: 2, dtype: object"
      ]
     },
     "execution_count": 69,
     "metadata": {},
     "output_type": "execute_result"
    }
   ],
   "source": [
    "worknet_df1.loc[2]"
   ]
  },
  {
   "cell_type": "markdown",
   "id": "1211ab45",
   "metadata": {},
   "source": [
    "#### kakao API 이용 주소를 이용 좌표로 변경 (tableau 맵을 이용해 회사 위치 파악)"
   ]
  },
  {
   "cell_type": "code",
   "execution_count": 36,
   "id": "84267528",
   "metadata": {},
   "outputs": [],
   "source": [
    "#kakao_key = pd.read_csv('C:/SEONWOO/enterprise/key.txt').columns[0]\n",
    "kakao_key = pd.read_csv('/Users/snoo/key/key.txt').columns[0]"
   ]
  },
  {
   "cell_type": "markdown",
   "id": "c7e05313",
   "metadata": {},
   "source": [
    "좌표 얻는 함수 "
   ]
  },
  {
   "cell_type": "code",
   "execution_count": 37,
   "id": "84bbadde",
   "metadata": {},
   "outputs": [],
   "source": [
    "def getLatLng(addr):\n",
    "  url = 'https://dapi.kakao.com/v2/local/search/address.json?query='+addr\n",
    "  headers = {\"Authorization\": \"KakaoAK \"+kakao_key}\n",
    "  result = json.loads(str(requests.get(url,headers=headers).text))\n",
    "  match_first = result['documents'][0]['address']\n",
    "  return float(match_first['y']),float(match_first['x'])"
   ]
  },
  {
   "cell_type": "code",
   "execution_count": 39,
   "id": "11cf26c7",
   "metadata": {},
   "outputs": [
    {
     "data": {
      "text/plain": [
       "'서울특별시 성동구 광나루로 130'"
      ]
     },
     "execution_count": 39,
     "metadata": {},
     "output_type": "execute_result"
    }
   ],
   "source": [
    "#worknet_df = pd.read_csv('C:/SEONWOO/enterprise/worknet_df1.csv')\n",
    "# 맥북버전 \n",
    "worknet_df = pd.read_csv('/Users/snoo/enterprise/worknet_df1.csv')\n",
    "worknet_df['회사주소'] # 형태 우편번호 + 주소 / 우리는 ㅇㅇ로 ㅁㅁㅁ 까지만 필요하니 분리해서 작업해야겠다. \n",
    "import re\n",
    "juso = worknet_df['회사주소']\n",
    "' '.join(juso[0].split(' ')[1:]).split(',')[0] # 주소 추출 "
   ]
  },
  {
   "cell_type": "code",
   "execution_count": 40,
   "id": "ad47d2cf",
   "metadata": {},
   "outputs": [],
   "source": [
    "최juso = list(map(lambda x : ' '.join(x.split(' ')[1:]).split(',')[0],juso))\n",
    "\n",
    "coord= []\n",
    "for i in range(len(worknet_df)):\n",
    "    coord.append(getLatLng(juso[i]))"
   ]
  },
  {
   "cell_type": "code",
   "execution_count": 41,
   "id": "b2b6e3cb",
   "metadata": {
    "scrolled": true
   },
   "outputs": [
    {
     "data": {
      "text/plain": [
       "[(37.5509787653401, 127.044720723884),\n",
       " (33.4767897566467, 126.474151903132),\n",
       " (37.4772565293096, 126.983878760744),\n",
       " (35.1514000679446, 126.914752917327),\n",
       " (35.0971635156665, 128.827780932198),\n",
       " (37.4488513932536, 127.167696591792),\n",
       " (35.2161116157406, 128.584495446582),\n",
       " (35.534228487564, 129.337146711287),\n",
       " (35.8682069453509, 128.546093759952),\n",
       " (37.4168272565636, 126.86085676081),\n",
       " (37.3225456341018, 127.098547188991),\n",
       " (36.4272972175849, 127.392562507138),\n",
       " (35.1567141271262, 128.098001405271),\n",
       " (37.5791229754801, 126.869769504006),\n",
       " (37.568851450649, 126.827338682565),\n",
       " (36.3584119241385, 127.348660929428),\n",
       " (37.5887034223667, 127.031698331241),\n",
       " (37.5637512316327, 126.964632683146),\n",
       " (35.701755242576, 128.466150981391),\n",
       " (37.3996441086743, 126.970274096871),\n",
       " (37.5451797442107, 127.056896775555),\n",
       " (37.3537312484956, 126.957422229723),\n",
       " (37.4795130993704, 126.887511773421),\n",
       " (35.1180568683281, 129.04218656028),\n",
       " (37.1779083926247, 126.883796738318),\n",
       " (37.5341520566604, 127.006517610304),\n",
       " (37.3716372837565, 127.10717141554),\n",
       " (37.3716372837565, 127.10717141554),\n",
       " (33.4537493860569, 126.572342488555),\n",
       " (37.4771830849703, 126.81685400133),\n",
       " (37.5268034272278, 126.904261652136),\n",
       " (37.5362922285546, 126.891841433535),\n",
       " (36.3723424355153, 127.400460176154),\n",
       " (37.6577577820016, 126.588498184443),\n",
       " (36.3273855857191, 127.423127705281),\n",
       " (35.4393526367586, 129.072534607711),\n",
       " (36.8684728454818, 127.057355395996),\n",
       " (35.1159011797242, 128.78901359425),\n",
       " (37.5058701186479, 127.052180354928),\n",
       " (37.3308610332276, 126.712003584523),\n",
       " (35.9668005357728, 128.93830396562),\n",
       " (36.3451267451986, 127.444190815039),\n",
       " (37.6138742565111, 127.153207213058),\n",
       " (36.3697424418574, 127.339567095425),\n",
       " (35.1954227799516, 126.790617328964),\n",
       " (37.4878312746356, 127.01352253293),\n",
       " (37.479966429878, 126.88263620024),\n",
       " (37.2830563756566, 127.043660039022),\n",
       " (36.4240664028984, 127.406131675205),\n",
       " (35.8555231686465, 128.579315744509),\n",
       " (35.1691769095862, 126.861437847603),\n",
       " (36.0127675065825, 129.323266571383),\n",
       " (37.2569019672568, 127.020693527626),\n",
       " (37.545048444535, 127.055814549422),\n",
       " (35.2246964071696, 128.598326962526),\n",
       " (37.3818594284068, 126.662694187386),\n",
       " (37.5412654954538, 126.946294819719),\n",
       " (35.1528345051285, 126.890238083547),\n",
       " (35.973461046516, 127.128277728034),\n",
       " (36.6290948036689, 127.517653433242),\n",
       " (37.4990862800943, 127.034141792509),\n",
       " (37.4990862800943, 127.034141792509),\n",
       " (37.4990862800943, 127.034141792509),\n",
       " (36.359444439932, 127.380203428402),\n",
       " (35.823646619549, 127.153714689539),\n",
       " (35.1482823676143, 129.065472544207),\n",
       " (37.479966429878, 126.88263620024),\n",
       " (37.5011172075922, 127.043058269829),\n",
       " (36.7140498123745, 127.431102324448),\n",
       " (37.2578281885711, 127.243227567868),\n",
       " (37.5590224585891, 126.921235281427),\n",
       " (37.4860566025335, 126.894669265147),\n",
       " (36.8871446789728, 127.677716906557),\n",
       " (37.5268034272278, 126.904261652136),\n",
       " (37.5057885877997, 127.051541631852),\n",
       " (37.5621975334628, 126.999449248754),\n",
       " (37.4795130993704, 126.887511773421),\n",
       " (35.225648776854, 126.847363855789),\n",
       " (37.5075910839105, 127.060579419429),\n",
       " (37.5075910839105, 127.060579419429),\n",
       " (36.355601798345, 127.344588575888),\n",
       " (37.4915693683974, 127.03118027892),\n",
       " (37.5281995830714, 126.922656059858),\n",
       " (37.5281995830714, 126.922656059858),\n",
       " (35.2528100895983, 128.900515324646),\n",
       " (37.6046480630022, 126.918478538111),\n",
       " (37.8680243076332, 127.748387408095),\n",
       " (37.5248882861767, 126.927297465564),\n",
       " (37.5248882861767, 126.927297465564),\n",
       " (37.0337732160833, 126.9337619636),\n",
       " (37.513211637695, 127.016269112492),\n",
       " (35.1917456837139, 128.718023250805),\n",
       " (37.4868456339581, 127.120489970866),\n",
       " (37.4885424875185, 126.998835467901),\n",
       " (35.1514000679446, 126.914752917327),\n",
       " (35.0971635156665, 128.827780932198),\n",
       " (37.4168272565636, 126.86085676081),\n",
       " (37.3225456341018, 127.098547188991),\n",
       " (37.568851450649, 126.827338682565),\n",
       " (37.5887034223667, 127.031698331241),\n",
       " (35.701755242576, 128.466150981391),\n",
       " (37.5451797442107, 127.056896775555),\n",
       " (37.3537312484956, 126.957422229723),\n",
       " (37.4795130993704, 126.887511773421),\n",
       " (37.1779083926247, 126.883796738318),\n",
       " (33.4537493860569, 126.572342488555),\n",
       " (36.3723424355153, 127.400460176154),\n",
       " (37.6577577820016, 126.588498184443),\n",
       " (36.3273855857191, 127.423127705281),\n",
       " (37.5058701186479, 127.052180354928),\n",
       " (37.3308610332276, 126.712003584523),\n",
       " (36.3451267451986, 127.444190815039),\n",
       " (35.1954227799516, 126.790617328964),\n",
       " (37.4878312746356, 127.01352253293),\n",
       " (37.2830563756566, 127.043660039022),\n",
       " (35.1691769095862, 126.861437847603),\n",
       " (36.0127675065825, 129.323266571383),\n",
       " (35.2246964071696, 128.598326962526),\n",
       " (37.3818594284068, 126.662694187386),\n",
       " (35.1528345051285, 126.890238083547),\n",
       " (37.4990862800943, 127.034141792509),\n",
       " (35.823646619549, 127.153714689539),\n",
       " (37.479966429878, 126.88263620024),\n",
       " (37.4860566025335, 126.894669265147),\n",
       " (36.8871446789728, 127.677716906557),\n",
       " (37.4795130993704, 126.887511773421),\n",
       " (37.6046480630022, 126.918478538111),\n",
       " (33.4767897566467, 126.474151903132),\n",
       " (37.4772565293096, 126.983878760744),\n",
       " (35.1514000679446, 126.914752917327),\n",
       " (37.568851450649, 126.827338682565),\n",
       " (37.5637512316327, 126.964632683146),\n",
       " (37.3996441086743, 126.970274096871),\n",
       " (37.5341520566604, 127.006517610304),\n",
       " (33.4537493860569, 126.572342488555),\n",
       " (37.5362922285546, 126.891841433535),\n",
       " (35.4393526367586, 129.072534607711),\n",
       " (37.5058701186479, 127.052180354928),\n",
       " (35.9668005357728, 128.93830396562),\n",
       " (36.3697424418574, 127.339567095425),\n",
       " (37.479966429878, 126.88263620024),\n",
       " (36.0127675065825, 129.323266571383),\n",
       " (37.545048444535, 127.055814549422),\n",
       " (35.1528345051285, 126.890238083547),\n",
       " (37.4990862800943, 127.034141792509),\n",
       " (37.5011172075922, 127.043058269829),\n",
       " (36.7140498123745, 127.431102324448),\n",
       " (37.2578281885711, 127.243227567868),\n",
       " (35.225648776854, 126.847363855789),\n",
       " (37.5075910839105, 127.060579419429),\n",
       " (37.5075910839105, 127.060579419429),\n",
       " (36.355601798345, 127.344588575888),\n",
       " (37.4915693683974, 127.03118027892),\n",
       " (37.5281995830714, 126.922656059858),\n",
       " (37.5281995830714, 126.922656059858),\n",
       " (37.8680243076332, 127.748387408095),\n",
       " (37.5248882861767, 126.927297465564)]"
      ]
     },
     "execution_count": 41,
     "metadata": {},
     "output_type": "execute_result"
    }
   ],
   "source": [
    "coord"
   ]
  },
  {
   "cell_type": "code",
   "execution_count": 42,
   "id": "6bde4478",
   "metadata": {},
   "outputs": [],
   "source": [
    "coord = list(map(lambda x : str(x).split('(')[1].split(')')[0],coord))\n",
    "coord_y = list(map(lambda x : x.split(',')[0],coord))\n",
    "coord_x = list(map(lambda x : x.split(',')[1],coord))"
   ]
  },
  {
   "cell_type": "code",
   "execution_count": 70,
   "id": "26997502",
   "metadata": {},
   "outputs": [],
   "source": [
    "worknet_df['위도'] = coord_y\n",
    "worknet_df['경도'] = coord_x\n"
   ]
  },
  {
   "cell_type": "markdown",
   "id": "5476e8d4",
   "metadata": {},
   "source": [
    "## 임시 저장"
   ]
  },
  {
   "cell_type": "code",
   "execution_count": 71,
   "id": "e7907cc1",
   "metadata": {},
   "outputs": [],
   "source": [
    "# worknet_df.to_csv('C:/SEONWOO/enterprise/enterprise/worknet_df1.csv',encoding='utf-8')\n",
    "worknet_df.to_csv('/Users/snoo/enterprise/worknet_df1.csv',index=False)"
   ]
  },
  {
   "cell_type": "code",
   "execution_count": 72,
   "id": "62e153df",
   "metadata": {
    "scrolled": true
   },
   "outputs": [],
   "source": [
    "import pandas as pd\n",
    "worknet_df = pd.read_csv('/Users/snoo/enterprise/worknet_df1.csv')"
   ]
  },
  {
   "cell_type": "code",
   "execution_count": 77,
   "id": "8c59d0bf",
   "metadata": {
    "scrolled": false
   },
   "outputs": [],
   "source": [
    "worknet_df.isnull().sum()\n",
    "worknet_df = worknet_df.fillna(' ')"
   ]
  },
  {
   "cell_type": "code",
   "execution_count": 79,
   "id": "cece1db8",
   "metadata": {},
   "outputs": [],
   "source": [
    "worknet_df.to_csv('/Users/snoo/enterprise/worknet_df1.csv',index=False)"
   ]
  },
  {
   "cell_type": "markdown",
   "id": "8d3e149c",
   "metadata": {},
   "source": [
    "### 변경이 필요한 컬럼이 있는가?? \n",
    "- 근로자수, 자본금, 연매출액,수치로 두는것이 좋을것 같다. \n",
    "- 임금조건 = 임금형태/ 임금\n",
    "- 접수마감일 날짜형태로 / 채용시까지 = 20221231 로 변경 \n"
   ]
  },
  {
   "cell_type": "code",
   "execution_count": 81,
   "id": "7242372c",
   "metadata": {},
   "outputs": [],
   "source": [
    "worknet_df1 = pd.read_csv('/Users/snoo/enterprise/worknet_df1.csv')"
   ]
  },
  {
   "cell_type": "code",
   "execution_count": 82,
   "id": "30359a6f",
   "metadata": {},
   "outputs": [
    {
     "data": {
      "text/plain": [
       "0    30\n",
       "1    25\n",
       "2     3\n",
       "3     2\n",
       "4     8\n",
       "Name: 근로자수, dtype: int64"
      ]
     },
     "execution_count": 82,
     "metadata": {},
     "output_type": "execute_result"
    }
   ],
   "source": [
    "worknet_df1['근로자수'] = list(map(lambda x : int(x.replace('명','')),worknet_df['근로자수']))\n",
    "worknet_df1['근로자수'].head()"
   ]
  },
  {
   "cell_type": "code",
   "execution_count": 89,
   "id": "3cd53d32",
   "metadata": {},
   "outputs": [
    {
     "data": {
      "text/plain": [
       "0    210000000\n",
       "1            0\n",
       "2            0\n",
       "3      1000000\n",
       "4            0\n",
       "Name: 자본금, dtype: int64"
      ]
     },
     "execution_count": 89,
     "metadata": {},
     "output_type": "execute_result"
    }
   ],
   "source": [
    "최선우worknet_df1['자본금'] = list(map(lambda x : x.replace(' 백만원','000000'),worknet_df1['자본금']))\n",
    "worknet_df1['자본금'] = list(map(lambda x : x.replace(' ','0'),worknet_df1['자본금']))\n",
    "worknet_df1['자본금'] = worknet_df1['자본금'].astype('int')\n",
    "worknet_df1['자본금'].head()"
   ]
  },
  {
   "cell_type": "code",
   "execution_count": 90,
   "id": "d736cd2b",
   "metadata": {},
   "outputs": [
    {
     "data": {
      "text/plain": [
       "0    80000000000\n",
       "1              0\n",
       "2              0\n",
       "3              0\n",
       "4              0\n",
       "Name: 연매출액, dtype: int64"
      ]
     },
     "execution_count": 90,
     "metadata": {},
     "output_type": "execute_result"
    }
   ],
   "source": [
    "최선우worknet_df1['연매출액'] = list(map(lambda x : int(x.replace(' 백만원','000000').replace(' ','0')),worknet_df1['연매출액']))\n",
    "worknet_df1['연매출액'].head()"
   ]
  },
  {
   "cell_type": "code",
   "execution_count": 91,
   "id": "53661acd",
   "metadata": {},
   "outputs": [
    {
     "data": {
      "text/plain": [
       "0    연봉\n",
       "1    연봉\n",
       "2    연봉\n",
       "3    연봉\n",
       "4    연봉\n",
       "Name: 임금형태, dtype: object"
      ]
     },
     "execution_count": 91,
     "metadata": {},
     "output_type": "execute_result"
    }
   ],
   "source": [
    "최선우worknet_df1['임금형태'] =list(map(lambda x : x.split('이상')[0][:2],worknet_df1['임금조건']))\n",
    "worknet_df1['임금'] = list(map(lambda x : int(x.split('이상')[0][2:].replace(',','')[:-2]),worknet_df1['임금조건']))\n",
    "worknet_df1.drop('임금조건',axis=1,inplace=True)\n",
    "worknet_df1['임금형태'].head()"
   ]
  },
  {
   "cell_type": "code",
   "execution_count": 92,
   "id": "e9300d56",
   "metadata": {},
   "outputs": [
    {
     "data": {
      "text/plain": [
       "0    33000000\n",
       "1    20060400\n",
       "2    23000000\n",
       "3    28000000\n",
       "4    40000000\n",
       "Name: 임금, dtype: int64"
      ]
     },
     "execution_count": 92,
     "metadata": {},
     "output_type": "execute_result"
    }
   ],
   "source": [
    "최선우worknet_df1['임금'].head()"
   ]
  },
  {
   "cell_type": "code",
   "execution_count": 93,
   "id": "89dff415",
   "metadata": {
    "scrolled": false
   },
   "outputs": [
    {
     "data": {
      "text/plain": [
       "0    2022-12-31\n",
       "1    2022-07-25\n",
       "2    2022-12-31\n",
       "3    2022-07-25\n",
       "4    2022-07-23\n",
       "Name: 접수마감일, dtype: object"
      ]
     },
     "execution_count": 93,
     "metadata": {},
     "output_type": "execute_result"
    }
   ],
   "source": [
    "최선우worknet_df1['접수마감일'] = list(map(lambda x : x.replace('채용시까지','20221231'),worknet_df1['접수마감일']))\n",
    "import datetime\n",
    "worknet_df1['접수마감일'] = list(map(lambda x : datetime.datetime.strptime(x,'%Y%M%d').strftime('%Y-%M-%d'),worknet_df1['접수마감일']))\n",
    "worknet_df1['접수마감일'].head()"
   ]
  },
  {
   "cell_type": "markdown",
   "id": "40491fd1",
   "metadata": {},
   "source": [
    "중복이 한건 존재 했다 삭제 하고 저장하겠다."
   ]
  },
  {
   "cell_type": "code",
   "execution_count": 2,
   "id": "38290942",
   "metadata": {},
   "outputs": [
    {
     "data": {
      "text/html": [
       "<div>\n",
       "<style scoped>\n",
       "    .dataframe tbody tr th:only-of-type {\n",
       "        vertical-align: middle;\n",
       "    }\n",
       "\n",
       "    .dataframe tbody tr th {\n",
       "        vertical-align: top;\n",
       "    }\n",
       "\n",
       "    .dataframe thead th {\n",
       "        text-align: right;\n",
       "    }\n",
       "</style>\n",
       "<table border=\"1\" class=\"dataframe\">\n",
       "  <thead>\n",
       "    <tr style=\"text-align: right;\">\n",
       "      <th></th>\n",
       "      <th>회사명</th>\n",
       "      <th>근로자수</th>\n",
       "      <th>자본금</th>\n",
       "      <th>연매출액</th>\n",
       "      <th>업종</th>\n",
       "      <th>주요사업내용</th>\n",
       "      <th>회사주소</th>\n",
       "      <th>회사규모</th>\n",
       "      <th>모집직종</th>\n",
       "      <th>구인제목</th>\n",
       "      <th>...</th>\n",
       "      <th>연금4대보험</th>\n",
       "      <th>퇴직금</th>\n",
       "      <th>기타복리후생</th>\n",
       "      <th>장애인편의시설</th>\n",
       "      <th>상세모집내용URL</th>\n",
       "      <th>전화번호</th>\n",
       "      <th>위도</th>\n",
       "      <th>경도</th>\n",
       "      <th>임금형태</th>\n",
       "      <th>임금</th>\n",
       "    </tr>\n",
       "  </thead>\n",
       "  <tbody>\n",
       "    <tr>\n",
       "      <th>40</th>\n",
       "      <td>영천제일직업전문학교</td>\n",
       "      <td>8</td>\n",
       "      <td>0</td>\n",
       "      <td>0</td>\n",
       "      <td>직원훈련기관</td>\n",
       "      <td>실업자 직업훈련 및 취업지원 업무</td>\n",
       "      <td>38888 경상북도 영천시 완산로 73 (완산동)</td>\n",
       "      <td>중소기업</td>\n",
       "      <td>데이터 분석가(빅데이터 분석가)(134102)</td>\n",
       "      <td>빅데이터 강사 구합니다.</td>\n",
       "      <td>...</td>\n",
       "      <td>국민연금 고용보험 산재보험 의료보험</td>\n",
       "      <td>해당없음</td>\n",
       "      <td></td>\n",
       "      <td></td>\n",
       "      <td>http://www.work.go.kr/outOffer/empInfo/empDeta...</td>\n",
       "      <td>054-337-7676</td>\n",
       "      <td>35.966801</td>\n",
       "      <td>128.938304</td>\n",
       "      <td>시급</td>\n",
       "      <td>30000</td>\n",
       "    </tr>\n",
       "    <tr>\n",
       "      <th>138</th>\n",
       "      <td>영천제일직업전문학교</td>\n",
       "      <td>8</td>\n",
       "      <td>0</td>\n",
       "      <td>0</td>\n",
       "      <td>직원훈련기관</td>\n",
       "      <td>실업자 직업훈련 및 취업지원 업무</td>\n",
       "      <td>38888 경상북도 영천시 완산로 73 (완산동)</td>\n",
       "      <td>중소기업</td>\n",
       "      <td>데이터 분석가(빅데이터 분석가)(134102)</td>\n",
       "      <td>빅데이터 강사 구합니다.</td>\n",
       "      <td>...</td>\n",
       "      <td>국민연금 고용보험 산재보험 의료보험</td>\n",
       "      <td>해당없음</td>\n",
       "      <td></td>\n",
       "      <td></td>\n",
       "      <td>http://www.work.go.kr/outOffer/empInfo/empDeta...</td>\n",
       "      <td>054-337-7676</td>\n",
       "      <td>35.966801</td>\n",
       "      <td>128.938304</td>\n",
       "      <td>시급</td>\n",
       "      <td>30000</td>\n",
       "    </tr>\n",
       "  </tbody>\n",
       "</table>\n",
       "<p>2 rows × 40 columns</p>\n",
       "</div>"
      ],
      "text/plain": [
       "            회사명  근로자수  자본금  연매출액      업종              주요사업내용  \\\n",
       "40   영천제일직업전문학교     8    0     0  직원훈련기관  실업자 직업훈련 및 취업지원 업무   \n",
       "138  영천제일직업전문학교     8    0     0  직원훈련기관  실업자 직업훈련 및 취업지원 업무   \n",
       "\n",
       "                            회사주소  회사규모                       모집직종  \\\n",
       "40   38888 경상북도 영천시 완산로 73 (완산동)  중소기업  데이터 분석가(빅데이터 분석가)(134102)   \n",
       "138  38888 경상북도 영천시 완산로 73 (완산동)  중소기업  데이터 분석가(빅데이터 분석가)(134102)   \n",
       "\n",
       "              구인제목  ...               연금4대보험   퇴직금 기타복리후생  장애인편의시설  \\\n",
       "40   빅데이터 강사 구합니다.  ...  국민연금 고용보험 산재보험 의료보험  해당없음                   \n",
       "138  빅데이터 강사 구합니다.  ...  국민연금 고용보험 산재보험 의료보험  해당없음                   \n",
       "\n",
       "                                             상세모집내용URL          전화번호  \\\n",
       "40   http://www.work.go.kr/outOffer/empInfo/empDeta...  054-337-7676   \n",
       "138  http://www.work.go.kr/outOffer/empInfo/empDeta...  054-337-7676   \n",
       "\n",
       "            위도          경도 임금형태     임금  \n",
       "40   35.966801  128.938304   시급  30000  \n",
       "138  35.966801  128.938304   시급  30000  \n",
       "\n",
       "[2 rows x 40 columns]"
      ]
     },
     "execution_count": 2,
     "metadata": {},
     "output_type": "execute_result"
    }
   ],
   "source": [
    "import pandas as pd \n",
    "aa = pd.read_csv('/Users/snoo/enterprise/worknet_df2.csv')\n",
    "aa[aa['회사명']=='영천제일직업전문학교']\n",
    "aa.drop(138,inplace=True)"
   ]
  },
  {
   "cell_type": "code",
   "execution_count": 7,
   "id": "907980a2",
   "metadata": {},
   "outputs": [],
   "source": [
    "aa.to_csv('/Users/snoo/enterprise/worknet_df2.csv',index=False)"
   ]
  },
  {
   "cell_type": "markdown",
   "id": "2891ab78",
   "metadata": {},
   "source": [
    "데이터프레임에서 컬럼 적용은 여기 까지하면 될 것 같다. 나머지는 시각화에 달려있다.\n",
    "csv 파일로 만든 후 tableau 를 이용해서 작업을 해 보자 "
   ]
  }
 ],
 "metadata": {
  "kernelspec": {
   "display_name": "Python 3 (ipykernel)",
   "language": "python",
   "name": "python3"
  },
  "language_info": {
   "codemirror_mode": {
    "name": "ipython",
    "version": 3
   },
   "file_extension": ".py",
   "mimetype": "text/x-python",
   "name": "python",
   "nbconvert_exporter": "python",
   "pygments_lexer": "ipython3",
   "version": "3.8.12"
  }
 },
 "nbformat": 4,
 "nbformat_minor": 5
}
